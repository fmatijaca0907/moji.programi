{
 "cells": [
  {
   "cell_type": "markdown",
   "metadata": {},
   "source": [
    "# Moj prvi program"
   ]
  },
  {
   "cell_type": "markdown",
   "metadata": {},
   "source": [
    "Napravi mi sifru"
   ]
  },
  {
   "cell_type": "code",
   "execution_count": null,
   "metadata": {},
   "outputs": [],
   "source": [
    "#Ovo bi trebalo funkcjonirat tako da:\n",
    "    #1.korisnik kaže koliko želi znamenki *\n",
    "    #2.radi listu slova *\n",
    "    #3.stavlja nasumican u listu *\n",
    "    #4.radi listu brojeva 0-9*\n",
    "    #5.spaja 2 liste *\n",
    "    #6.stavlja nasumican(brojznamkenki) u listu\n",
    "\n",
    "    "
   ]
  },
  {
   "cell_type": "code",
   "execution_count": 1,
   "metadata": {},
   "outputs": [],
   "source": [
    "def lista_slova():\n",
    "    lista_slovo = []\n",
    "    slova = \"ABCDEFGHIJKLMNOPQRSTUWZ\"\n",
    "    for slovo in slova:\n",
    "        lista_slovo.append(slovo)\n",
    "    return lista_slovo\n"
   ]
  },
  {
   "cell_type": "code",
   "execution_count": 12,
   "metadata": {},
   "outputs": [],
   "source": [
    "def broj_znakova():\n",
    "    broj_znamkeni = int(input(\"Unesi broj znamekni\"))\n",
    "    return broj_znamkeni"
   ]
  },
  {
   "cell_type": "code",
   "execution_count": 19,
   "metadata": {},
   "outputs": [],
   "source": [
    "def nasumicna_lista_s():\n",
    "    random_lista = []\n",
    "    lista = lista_slova()\n",
    "    import random\n",
    "    for slovo in lista:\n",
    "        slovo = random.choice(lista)\n",
    "        random_lista.append(slovo)\n",
    "\n",
    "    return random_lista\n",
    "\n"
   ]
  },
  {
   "cell_type": "code",
   "execution_count": 14,
   "metadata": {},
   "outputs": [],
   "source": [
    "def lista_brojeva():\n",
    "    lista_b=[]\n",
    "    brojevi = \"0123456789\"\n",
    "    for broj in brojevi:\n",
    "        lista_b.append(broj)\n",
    "    return lista_b\n"
   ]
  },
  {
   "cell_type": "code",
   "execution_count": 21,
   "metadata": {},
   "outputs": [],
   "source": [
    "def nasumicna_lista_b():\n",
    "    nasumicna =[]\n",
    "    lista = lista_brojeva()\n",
    "    import random\n",
    "    for slovo in lista:\n",
    "        slovo = random.choice(lista)\n",
    "        nasumicna.append(slovo)\n",
    "\n",
    "    return nasumicna"
   ]
  },
  {
   "cell_type": "code",
   "execution_count": 23,
   "metadata": {},
   "outputs": [],
   "source": [
    "def lista_b_s():\n",
    "    lista_b = nasumicna_lista_b()\n",
    "    lista_s=nasumicna_lista_s()\n",
    "    lista = lista_b + lista_s\n",
    "    return lista\n"
   ]
  },
  {
   "cell_type": "code",
   "execution_count": 27,
   "metadata": {},
   "outputs": [
    {
     "data": {
      "text/plain": [
       "['U', 'J', 'N', '3', '3', 'F', 'D', '8', '4']"
      ]
     },
     "execution_count": 27,
     "metadata": {},
     "output_type": "execute_result"
    }
   ],
   "source": [
    "def nasumicna_sifra():\n",
    "    sifra = []\n",
    "    b_znakova = broj_znakova()\n",
    "    lista = lista_b_s()\n",
    "    import random\n",
    "    for x in range(b_znakova):\n",
    "        slovo = random.choice(lista)\n",
    "        sifra.append(slovo)\n",
    "    return sifra\n",
    "\n",
    "nasumicna_sifra()"
   ]
  }
 ],
 "metadata": {
  "kernelspec": {
   "display_name": "Python 3",
   "language": "python",
   "name": "python3"
  },
  "language_info": {
   "codemirror_mode": {
    "name": "ipython",
    "version": 3
   },
   "file_extension": ".py",
   "mimetype": "text/x-python",
   "name": "python",
   "nbconvert_exporter": "python",
   "pygments_lexer": "ipython3",
   "version": "3.11.9"
  }
 },
 "nbformat": 4,
 "nbformat_minor": 2
}
