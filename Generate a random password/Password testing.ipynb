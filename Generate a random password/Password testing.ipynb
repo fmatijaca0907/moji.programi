{
 "cells": [
  {
   "cell_type": "markdown",
   "metadata": {},
   "source": [
    "# Moj prvi program"
   ]
  },
  {
   "cell_type": "markdown",
   "metadata": {},
   "source": [
    "Napravi mi sifru"
   ]
  },
  {
   "cell_type": "code",
   "execution_count": null,
   "metadata": {},
   "outputs": [],
   "source": [
    "#Ovo bi trebalo funkcjonirat tako da:\n",
    "    #1.korisnik kaže koliko želi znamenki *\n",
    "    #2.radi listu slova *\n",
    "    #3.stavlja nasumican u listu *\n",
    "    #4.radi listu brojeva 0-9*\n",
    "    #5.spaja 2 liste *\n",
    "    #6.stavlja nasumican(brojznamkenki) u listu\n",
    "\n",
    "    "
   ]
  },
  {
   "cell_type": "code",
   "execution_count": 10,
   "metadata": {},
   "outputs": [
    {
     "data": {
      "text/plain": [
       "['G', 'S', 'D', 'D', 'C']"
      ]
     },
     "execution_count": 10,
     "metadata": {},
     "output_type": "execute_result"
    }
   ],
   "source": [
    "from sifra import nasumicna_sifra\n",
    "nasumicna_sifra()"
   ]
  }
 ],
 "metadata": {
  "kernelspec": {
   "display_name": "Python 3",
   "language": "python",
   "name": "python3"
  },
  "language_info": {
   "codemirror_mode": {
    "name": "ipython",
    "version": 3
   },
   "file_extension": ".py",
   "mimetype": "text/x-python",
   "name": "python",
   "nbconvert_exporter": "python",
   "pygments_lexer": "ipython3",
   "version": "3.11.9"
  }
 },
 "nbformat": 4,
 "nbformat_minor": 2
}
