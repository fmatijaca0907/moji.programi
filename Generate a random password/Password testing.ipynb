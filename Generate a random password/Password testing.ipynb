{
 "cells": [
  {
   "cell_type": "markdown",
   "metadata": {},
   "source": [
    "# Password testing"
   ]
  },
  {
   "cell_type": "markdown",
   "metadata": {},
   "source": [
    "Testing to ensure the password has the same number of characters as the user entered.\n",
    "\n"
   ]
  },
  {
   "cell_type": "code",
   "execution_count": null,
   "metadata": {},
   "outputs": [
    {
     "name": "stdout",
     "output_type": "stream",
     "text": [
      "Test 1\n",
      "Password test: successful\n",
      "---------------------------------------------------------\n",
      "Test 2\n",
      "Password test: successful\n"
     ]
    }
   ],
   "source": [
    "from sifra import nasumicna_sifra\n",
    "\n",
    "sifra = nasumicna_sifra() # \"I will enter the number 8.\"\n",
    "number = 8\n",
    "print(\"Test 1\")\n",
    "\n",
    "if len(sifra) == number:\n",
    "    print(\"Password test: successful\")\n",
    "else:\n",
    "    print(\"Not ok!!!!!\")\n",
    "\n",
    "print(\"---------------------------------------------------------\")\n",
    "\n",
    "sifra = nasumicna_sifra() # \"I will enter the number 10.\"\n",
    "number = 8\n",
    "print(\"Test 2\")\n",
    "\n",
    "if len(sifra) == number:\n",
    "    print(\"Not ok!!!!!!\")\n",
    "else:\n",
    "    print(\"Password test: successful\")\n"
   ]
  },
  {
   "cell_type": "markdown",
   "metadata": {},
   "source": [
    "Generate a random password"
   ]
  },
  {
   "cell_type": "code",
   "execution_count": 12,
   "metadata": {},
   "outputs": [
    {
     "name": "stdout",
     "output_type": "stream",
     "text": [
      "Test 1:\n",
      "Ovo je tvoja sifra: B5AM1B5 \n",
      "-----------------------------\n",
      "Test 2:\n",
      "Ovo je tvoja sifra: 3 \n",
      "-----------------------------\n"
     ]
    }
   ],
   "source": [
    "from sifra import nasumicna_sifra_str\n",
    "\n",
    "print(\"Test 1:\")\n",
    "sifra = nasumicna_sifra_str()\n",
    "print(f\"Ovo je tvoja sifra: {sifra} \")\n",
    "print(\"-----------------------------\")\n",
    "\n",
    "\n",
    "print(\"Test 2:\")\n",
    "sifra = nasumicna_sifra_str()\n",
    "print(f\"Ovo je tvoja sifra: {sifra} \")\n",
    "print(\"-----------------------------\")"
   ]
  }
 ],
 "metadata": {
  "kernelspec": {
   "display_name": "Python 3",
   "language": "python",
   "name": "python3"
  },
  "language_info": {
   "codemirror_mode": {
    "name": "ipython",
    "version": 3
   },
   "file_extension": ".py",
   "mimetype": "text/x-python",
   "name": "python",
   "nbconvert_exporter": "python",
   "pygments_lexer": "ipython3",
   "version": "3.11.9"
  }
 },
 "nbformat": 4,
 "nbformat_minor": 2
}
