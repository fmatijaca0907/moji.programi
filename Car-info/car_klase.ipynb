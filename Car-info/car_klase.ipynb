{
 "cells": [
  {
   "cell_type": "code",
   "execution_count": 30,
   "metadata": {},
   "outputs": [
    {
     "name": "stdout",
     "output_type": "stream",
     "text": [
      "['02;02;2222']\n"
     ]
    }
   ],
   "source": [
    "import datetime as dt\n",
    "import csv\n",
    "\n",
    "class Datum:\n",
    "\n",
    "    def __init__(self,dan = None,mjesec = None,godina = None):\n",
    "\n",
    "            self.dan = dan\n",
    "            self.mjesec = mjesec\n",
    "            self.godina = godina\n",
    "            self.datum = self.dobij_datum()\n",
    "    \n",
    "    \n",
    "    def dobij_datum(self):\n",
    "        try:\n",
    "            if self.dan:\n",
    "                datum = dt.date(self.godina,self.mjesec,self.dan)\n",
    "            else:\n",
    "                datum = dt.date.today()\n",
    "            return datum\n",
    "        \n",
    "        except:\n",
    "            print(f\"Nesipravan unos datuma: {self.dan},{self.mjesec},{self.godina}\")\n",
    "\n",
    "    def datum_str(self):\n",
    "         datum = self.datum\n",
    "         datum = datum.strftime(\"%d;%m;%Y\")\n",
    "         return datum + \"\\n\"\n",
    "\n",
    "\n",
    "\n",
    "\n",
    "dan,mjesec,godina = input(\"Unesi datum u formatu(D-M-Y)\").split(\"-\")\n",
    "dan = int(dan)\n",
    "mjesec = int(mjesec)\n",
    "godina = int(godina)\n",
    "datum = Datum(dan,mjesec,godina)\n",
    "datum = datum.datum_str()\n",
    "novi_datum = []\n",
    "novi_datum.append(datum)\n",
    "datumi = novi_datum\n",
    "     \n",
    "with open(\"lista_datuma.csv\",\"w\") as csvfile: \n",
    "        csvfile.writelines(datumi) \n",
    "        \n",
    "\n",
    "with open(\"lista_datuma.csv\",\"r\") as csvfile:\n",
    "        reader = csv.reader(csvfile)\n",
    "        for row in reader:\n",
    "          print(row)\n"
   ]
  },
  {
   "cell_type": "code",
   "execution_count": 47,
   "metadata": {},
   "outputs": [
    {
     "data": {
      "text/plain": [
       "50-Eura"
      ]
     },
     "execution_count": 47,
     "metadata": {},
     "output_type": "execute_result"
    }
   ],
   "source": [
    "class Cijena_Goriva:\n",
    "\n",
    "    def __init__(self,cijena):\n",
    "        self.cijena = cijena\n",
    "\n",
    "    def vrijednost(self):\n",
    "        vrijendost = self.cijena.split(\"-\")\n",
    "        return vrijendost[0]\n",
    "    \n",
    "    def __repr__(self):\n",
    "        return self.cijena\n",
    "\n",
    "Cijena_Goriva(\"50-Eura\")"
   ]
  },
  {
   "cell_type": "code",
   "execution_count": null,
   "metadata": {},
   "outputs": [],
   "source": []
  }
 ],
 "metadata": {
  "kernelspec": {
   "display_name": "Python 3",
   "language": "python",
   "name": "python3"
  },
  "language_info": {
   "codemirror_mode": {
    "name": "ipython",
    "version": 3
   },
   "file_extension": ".py",
   "mimetype": "text/x-python",
   "name": "python",
   "nbconvert_exporter": "python",
   "pygments_lexer": "ipython3",
   "version": "3.11.9"
  }
 },
 "nbformat": 4,
 "nbformat_minor": 2
}
